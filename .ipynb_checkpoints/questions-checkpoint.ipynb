{
 "cells": [
  {
   "cell_type": "code",
   "execution_count": 127,
   "metadata": {},
   "outputs": [],
   "source": [
    "from bs4 import BeautifulSoup\n",
    "import pandas as pd\n",
    "from collections import namedtuple\n",
    "from datetime import datetime"
   ]
  },
  {
   "cell_type": "code",
   "execution_count": 128,
   "metadata": {},
   "outputs": [],
   "source": [
    "Question = namedtuple(\"Question\", [\"text\", \"score\", \"time\", \"user\"])"
   ]
  },
  {
   "cell_type": "code",
   "execution_count": 129,
   "metadata": {},
   "outputs": [],
   "source": [
    "def extract(filename):\n",
    "    with open(filename) as f:\n",
    "        soup = BeautifulSoup(f, 'html.parser')\n",
    "        questions = soup.select(\"admin-event-questions-item\")\n",
    "        result = []\n",
    "        for q in questions:\n",
    "            text = q.select_one(\".eq-item-content__text\").get_text().strip()\n",
    "            score = q.select_one(\".eq-item-header__sub-text .eq-item-header__score\").get_text()\n",
    "            time_str = q.select(\".eq-item-header__sub-text .l-mr0-5\")[1].get_text()\n",
    "            time = datetime.strptime(\"2019 \" + time_str, \"%Y %d %b, %I:%M%p\") #https://docs.python.org/3/library/datetime.html\n",
    "            user = q.select_one(\".eq-item-header__text\").get_text()\n",
    "            result.append(Question(text,score,time,user))\n",
    "    return result"
   ]
  },
  {
   "cell_type": "code",
   "execution_count": 130,
   "metadata": {},
   "outputs": [],
   "source": [
    "result =  extract(\"live.html\") + extract(\"archived.html\")"
   ]
  },
  {
   "cell_type": "code",
   "execution_count": 131,
   "metadata": {},
   "outputs": [],
   "source": [
    "df = pd.DataFrame(data=result).sort_values(by='time', ascending=False)"
   ]
  },
  {
   "cell_type": "code",
   "execution_count": 132,
   "metadata": {},
   "outputs": [],
   "source": [
    "df = df.sort_values(by='time', ascending=False)\n",
    "df = df[df['time'] > '2019-05-18']\n",
    "df = df.reset_index(drop=True)"
   ]
  },
  {
   "cell_type": "code",
   "execution_count": 133,
   "metadata": {},
   "outputs": [
    {
     "data": {
      "text/html": [
       "<div>\n",
       "<style scoped>\n",
       "    .dataframe tbody tr th:only-of-type {\n",
       "        vertical-align: middle;\n",
       "    }\n",
       "\n",
       "    .dataframe tbody tr th {\n",
       "        vertical-align: top;\n",
       "    }\n",
       "\n",
       "    .dataframe thead th {\n",
       "        text-align: right;\n",
       "    }\n",
       "</style>\n",
       "<table border=\"1\" class=\"dataframe\">\n",
       "  <thead>\n",
       "    <tr style=\"text-align: right;\">\n",
       "      <th></th>\n",
       "      <th>text</th>\n",
       "      <th>score</th>\n",
       "      <th>time</th>\n",
       "      <th>user</th>\n",
       "    </tr>\n",
       "  </thead>\n",
       "  <tbody>\n",
       "    <tr>\n",
       "      <th>0</th>\n",
       "      <td>ถ้าในแต่ละวันเราทำงานในร้านเกิน 8 ชม.แต่เจ้าขอ...</td>\n",
       "      <td>0</td>\n",
       "      <td>2019-05-19 00:13:00</td>\n",
       "      <td>Anonymous</td>\n",
       "    </tr>\n",
       "    <tr>\n",
       "      <th>1</th>\n",
       "      <td>คนไทยด้วยกัน ร้านอาหารไทยช่วยลดราคาให้กันหน่อยจิ</td>\n",
       "      <td>0</td>\n",
       "      <td>2019-05-18 15:42:00</td>\n",
       "      <td>Anonymous</td>\n",
       "    </tr>\n",
       "    <tr>\n",
       "      <th>2</th>\n",
       "      <td>ถ้าพนักงานไม่สามารถทำ SSN ได้ เนื่องจาก over s...</td>\n",
       "      <td>2</td>\n",
       "      <td>2019-05-18 15:26:00</td>\n",
       "      <td>Anonymous</td>\n",
       "    </tr>\n",
       "    <tr>\n",
       "      <th>3</th>\n",
       "      <td>ถ้าจ่ายพนักงานเป็นรายวัน ถือเป็นความผิดมั้ย แล...</td>\n",
       "      <td>2</td>\n",
       "      <td>2019-05-18 15:15:00</td>\n",
       "      <td>Anonymous</td>\n",
       "    </tr>\n",
       "    <tr>\n",
       "      <th>4</th>\n",
       "      <td>ต้นทุนค่าใช้จ่ายอาหารคนงานประมาณ$3ต่อคนต่อมื้อ...</td>\n",
       "      <td>0</td>\n",
       "      <td>2019-05-18 15:13:00</td>\n",
       "      <td>Anonymous</td>\n",
       "    </tr>\n",
       "  </tbody>\n",
       "</table>\n",
       "</div>"
      ],
      "text/plain": [
       "                                                text score  \\\n",
       "0  ถ้าในแต่ละวันเราทำงานในร้านเกิน 8 ชม.แต่เจ้าขอ...     0   \n",
       "1   คนไทยด้วยกัน ร้านอาหารไทยช่วยลดราคาให้กันหน่อยจิ     0   \n",
       "2  ถ้าพนักงานไม่สามารถทำ SSN ได้ เนื่องจาก over s...     2   \n",
       "3  ถ้าจ่ายพนักงานเป็นรายวัน ถือเป็นความผิดมั้ย แล...     2   \n",
       "4  ต้นทุนค่าใช้จ่ายอาหารคนงานประมาณ$3ต่อคนต่อมื้อ...     0   \n",
       "\n",
       "                 time       user  \n",
       "0 2019-05-19 00:13:00  Anonymous  \n",
       "1 2019-05-18 15:42:00  Anonymous  \n",
       "2 2019-05-18 15:26:00  Anonymous  \n",
       "3 2019-05-18 15:15:00  Anonymous  \n",
       "4 2019-05-18 15:13:00  Anonymous  "
      ]
     },
     "execution_count": 133,
     "metadata": {},
     "output_type": "execute_result"
    }
   ],
   "source": [
    "df.head()"
   ]
  },
  {
   "cell_type": "code",
   "execution_count": 134,
   "metadata": {},
   "outputs": [],
   "source": [
    "df.to_csv(\"questions.csv\")"
   ]
  }
 ],
 "metadata": {
  "kernelspec": {
   "display_name": "Python 3",
   "language": "python",
   "name": "python3"
  },
  "language_info": {
   "codemirror_mode": {
    "name": "ipython",
    "version": 3
   },
   "file_extension": ".py",
   "mimetype": "text/x-python",
   "name": "python",
   "nbconvert_exporter": "python",
   "pygments_lexer": "ipython3",
   "version": "3.7.3"
  }
 },
 "nbformat": 4,
 "nbformat_minor": 2
}
